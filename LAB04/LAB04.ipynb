{
 "cells": [
  {
   "cell_type": "markdown",
   "metadata": {},
   "source": [
    "Lab 04\n",
    "A Taste of Success: The Restaurant Management System\n",
    "\n",
    "In the heart of the bustling city of Lavasa was a charming little restaurant named \"Culinary Delights.\" Owned by a passionate chef named Chef Amelia, Culinary Delights was renowned for its mouthwatering dishes, warm ambience, and exceptional customer service.\n",
    "\n",
    "Chef Amelia had always dreamed of running her restaurant since she was a child. Her love for cooking led her to culinary school, where she honed her skills and developed her signature recipes. With hard work and determination, she finally opened Culinary Delights, a cosy place where people could savour her culinary creations.\n",
    "\n",
    "As Culinary Delights gained popularity, it faced a significant challenge – managing orders efficiently. Chef Amelia realised that she needed a robust Restaurant Management System (RMS) to maintain the restaurant's reputation.\n",
    "\n",
    "Chef Amelia would like to hire you as a team lead for the talented software developers Mark, Sarah, and David she already has. Together, you will create an advanced RMS that will revolutionise Culinary Delights.\n",
    "\n",
    "The software Chef Amelia is looking for is straightforward and has to store the orders in a file the restaurant gets from its customers.\n",
    "\n",
    "As a data analyst specialist, gather insights from the orders that Your hotel Culinary Delights received from their customer over time and display it to Chef Amelia as she uses your Software Application.\n",
    "\n",
    "Your submission will include the following:\n",
    "Lab 04.ipynb File with proper documentation and results from your program\n",
    "Updated README.md File\n",
    "Moodle Submission will include the file and repository URL"
   ]
  },
  {
   "cell_type": "code",
   "execution_count": 2,
   "metadata": {},
   "outputs": [
    {
     "name": "stdout",
     "output_type": "stream",
     "text": [
      "Enter the letter for exiting\n",
      "Goan Fish Curry\n",
      "Rice\n"
     ]
    }
   ],
   "source": [
    "print(\"Enter the letter for exiting\")\n",
    "\n",
    "def restaurant_management_system(customer_name, customer_phone):\n",
    "    print(menu)\n",
    "    number_of_dishes = int(input(\"How many dishes are ordering: \"))\n",
    "    dish_details = open(\"RMS.txt\", \"a+\")\n",
    "    total = 0\n",
    "\n",
    "    for _ in range(number_of_dishes):\n",
    "        dish = input(\"Enter the dish name: \")\n",
    "        quantity = int(input(\"Enter the quantity of the dish: \"))\n",
    "        price = int(input(\"Enter the price of the dish: \"))\n",
    "        grand_total = quantity * price\n",
    "        total += grand_total\n",
    "\n",
    "        dish_details.write(\"\\n\\nCustomer Name: \" + customer_name)\n",
    "        dish_details.write(\"\\nCustomer Phone Number: \" + customer_phone)\n",
    "        dish_details.write(\"\\nDish Ordered: \" + dish)\n",
    "        dish_details.write(\"\\nQuantity: \" + str(quantity))\n",
    "        dish_details.write(\"\\nPrice of the Dish: \" + str(price))\n",
    "        dish_details.write(\"\\nGrand Total: \" + str(grand_total))\n",
    "\n",
    "    dish_details.write(\"\\nTotal Bill: \" + str(total))\n",
    "    dish_details.close()\n",
    "\n",
    "customer_name = input(\"Enter the name of the customer: \")\n",
    "customer_phone = input(\"Enter the phone number: \")\n",
    "menu = \"Goan Fish Curry\\nRice\"\n",
    "restaurant_management_system(customer_name, customer_phone)\n"
   ]
  }
 ],
 "metadata": {
  "kernelspec": {
   "display_name": "Python 3",
   "language": "python",
   "name": "python3"
  },
  "language_info": {
   "codemirror_mode": {
    "name": "ipython",
    "version": 3
   },
   "file_extension": ".py",
   "mimetype": "text/x-python",
   "name": "python",
   "nbconvert_exporter": "python",
   "pygments_lexer": "ipython3",
   "version": "3.11.5"
  }
 },
 "nbformat": 4,
 "nbformat_minor": 2
}
