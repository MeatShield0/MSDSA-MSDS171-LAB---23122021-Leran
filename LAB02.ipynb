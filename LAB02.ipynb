{
 "cells": [
  {
   "cell_type": "code",
   "execution_count": 15,
   "metadata": {},
   "outputs": [],
   "source": [
    "# Function to get input and store values\n",
    "def main(name_list):\n",
    "    name = input(\"Enter your name:\")  #takes user input\n",
    "    temp = 0\n",
    "\n",
    "    if name != \"q\" and name != '':\n",
    "        name = name.strip()  # Removes extra space in the user input\n",
    "        if name in name_list:  \n",
    "            print(\"Name exists in the list\")\n",
    "            main(name_list)\n",
    "        elif name.isdigit():  \n",
    "            print(\"Enter a valid name\")\n",
    "            main(name_list)\n",
    "        elif name == '':  \n",
    "            print(\"Enter a valid name\")\n",
    "            main(name_list)\n",
    "        else:\n",
    "            name_list.append(name)  \n",
    "            main(name_list)  \n",
    "    elif name == \"q\":\n",
    "        name_list.sort()\n",
    "        print(name_list)\n",
    "        var = input(\"Is further analysis required: y/n\")\n",
    "        if var == \"y\":\n",
    "            print(\"The total names in the list: \", len(name_list))\n",
    "            for i in range(65, 91):  \n",
    "                temp = 0\n",
    "                sho = chr(i)\n",
    "                for j in name_list:\n",
    "                    if sho == j[0]:\n",
    "                        temp = temp + 1\n",
    "                if temp > 0:\n",
    "                    print(\"Number of Villagers having name starting with \", sho, \"= \", temp)  # Output of each character count\n"
   ]
  },
  {
   "cell_type": "code",
   "execution_count": 18,
   "metadata": {},
   "outputs": [
    {
     "name": "stdout",
     "output_type": "stream",
     "text": [
      "Name exists in the list\n"
     ]
    }
   ],
   "source": [
    "name_list =[]\n",
    "main(name_list)"
   ]
  }
 ],
 "metadata": {
  "kernelspec": {
   "display_name": "Python 3",
   "language": "python",
   "name": "python3"
  },
  "language_info": {
   "codemirror_mode": {
    "name": "ipython",
    "version": 3
   },
   "file_extension": ".py",
   "mimetype": "text/x-python",
   "name": "python",
   "nbconvert_exporter": "python",
   "pygments_lexer": "ipython3",
   "version": "3.11.5"
  }
 },
 "nbformat": 4,
 "nbformat_minor": 2
}
