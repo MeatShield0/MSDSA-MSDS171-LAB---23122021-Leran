{
 "cells": [
  {
   "cell_type": "markdown",
   "metadata": {},
   "source": [
    "Classes"
   ]
  },
  {
   "cell_type": "code",
   "execution_count": 3,
   "metadata": {},
   "outputs": [
    {
     "name": "stdout",
     "output_type": "stream",
     "text": [
      "Name: asd,\n",
      "Address: la vasa,\n",
      "Phone: 1234567890 \n"
     ]
    }
   ],
   "source": [
    "class Student():\n",
    "    # data members\n",
    "    # Name, phone, address\n",
    "     \n",
    "    # member functions\n",
    "     #initialize the value of the variable,, init is called a constructor#\n",
    "    def __init__(self): #underscores are important there are two underscores around _ _init_ _\n",
    "        self.name = \"asd\"\n",
    "        self.address = \"la vasa\"\n",
    "        self.phone= 1234567890\n",
    "    \n",
    "    def printStudent(self):\n",
    "        print(\"Name: {},\\nAddress: {},\\nPhone: {} \".format(self.name,self.address,self.phone))\n",
    "\n",
    "    def _str_(self):\n",
    "        pass\n",
    "\n",
    "asd = Student()\n",
    "asd.printStudent()\n",
    "\n",
    "\n",
    "class Student:\n",
    "    def __init__(self, a, b ):\n",
    "        self.name = a\n",
    "        self.stu_class = b \n",
    "#creating an object xyz\n",
    "xyz = Student(\"Anthony\", \"MCA\")\n",
    "print(xyz.name,xyz.stu_class)"
   ]
  }
 ],
 "metadata": {
  "kernelspec": {
   "display_name": "Python 3",
   "language": "python",
   "name": "python3"
  },
  "language_info": {
   "codemirror_mode": {
    "name": "ipython",
    "version": 3
   },
   "file_extension": ".py",
   "mimetype": "text/x-python",
   "name": "python",
   "nbconvert_exporter": "python",
   "pygments_lexer": "ipython3",
   "version": "3.11.5"
  },
  "orig_nbformat": 4
 },
 "nbformat": 4,
 "nbformat_minor": 2
}
